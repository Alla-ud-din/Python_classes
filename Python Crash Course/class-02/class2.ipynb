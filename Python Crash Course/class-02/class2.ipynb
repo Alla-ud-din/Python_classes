{
 "cells": [
  {
   "cell_type": "markdown",
   "metadata": {},
   "source": [
    "# String data type in Python"
   ]
  },
  {
   "cell_type": "code",
   "execution_count": 4,
   "metadata": {},
   "outputs": [
    {
     "name": "stdout",
     "output_type": "stream",
     "text": [
      "<class 'str'>\n",
      "Alla Ud Din\n"
     ]
    }
   ],
   "source": [
    "# boundries\n",
    "# 'string text', \"string text \", '''string text''', \"\"\" string\"\"\"\n",
    "# `string text` type script\n",
    "\n",
    "name : str = \"Alla Ud Din\"\n",
    "print(type(name))\n",
    "print(name)"
   ]
  },
  {
   "cell_type": "code",
   "execution_count": 2,
   "metadata": {},
   "outputs": [
    {
     "name": "stdout",
     "output_type": "stream",
     "text": [
      "<class 'str'>\n",
      "Muhammad Qasim\n"
     ]
    }
   ],
   "source": [
    "# boundries\n",
    "# 'string text', \"string text \", '''string text''', \"\"\" string\"\"\"\n",
    "# `string text` type script\n",
    "\n",
    "name : str = 'Muhammad Qasim'\n",
    "print(type(name))\n",
    "print(name)"
   ]
  },
  {
   "cell_type": "code",
   "execution_count": 3,
   "metadata": {},
   "outputs": [
    {
     "ename": "SyntaxError",
     "evalue": "unterminated string literal (detected at line 1) (4212690934.py, line 1)",
     "output_type": "error",
     "traceback": [
      "\u001b[1;36m  Cell \u001b[1;32mIn[3], line 1\u001b[1;36m\u001b[0m\n\u001b[1;33m    message : str = 'PIAIC Student Card \\n father's Name'\u001b[0m\n\u001b[1;37m                                                        ^\u001b[0m\n\u001b[1;31mSyntaxError\u001b[0m\u001b[1;31m:\u001b[0m unterminated string literal (detected at line 1)\n"
     ]
    }
   ],
   "source": [
    "message : str = 'PIAIC Student Card \\n father's Name'\n",
    "print(message)"
   ]
  },
  {
   "cell_type": "code",
   "execution_count": null,
   "metadata": {},
   "outputs": [
    {
     "name": "stdout",
     "output_type": "stream",
     "text": [
      "PIAIC Student Card \n",
      " father's Name\n"
     ]
    }
   ],
   "source": [
    "message : str = \"PIAIC Student Card \\n father's Name\"\n",
    "print(message)"
   ]
  },
  {
   "cell_type": "code",
   "execution_count": null,
   "metadata": {},
   "outputs": [
    {
     "name": "stdout",
     "output_type": "stream",
     "text": [
      "PIAIC \"Student Card\" \n",
      " father Name\n"
     ]
    }
   ],
   "source": [
    "message : str = 'PIAIC \"Student Card\" \\n father Name'\n",
    "print(message)"
   ]
  },
  {
   "cell_type": "code",
   "execution_count": null,
   "metadata": {},
   "outputs": [
    {
     "name": "stdout",
     "output_type": "stream",
     "text": [
      "PIAIC Student Card \n",
      " father's Name\n"
     ]
    }
   ],
   "source": [
    "# convert any special character into simple character, place \\ before character\n",
    "message : str = 'PIAIC Student Card \\n father\\'s Name'\n",
    "print(message)"
   ]
  },
  {
   "cell_type": "code",
   "execution_count": null,
   "metadata": {},
   "outputs": [
    {
     "data": {
      "text/plain": [
       "'abc'"
      ]
     },
     "execution_count": 1,
     "metadata": {},
     "output_type": "execute_result"
    }
   ],
   "source": [
    "\"a\" + \"b\" + \"c\""
   ]
  },
  {
   "cell_type": "code",
   "execution_count": 6,
   "metadata": {},
   "outputs": [
    {
     "ename": "TypeError",
     "evalue": "can only concatenate str (not \"int\") to str",
     "output_type": "error",
     "traceback": [
      "\u001b[1;31m---------------------------------------------------------------------------\u001b[0m",
      "\u001b[1;31mTypeError\u001b[0m                                 Traceback (most recent call last)",
      "Cell \u001b[1;32mIn[6], line 10\u001b[0m\n\u001b[0;32m      7\u001b[0m education : \u001b[38;5;28mstr\u001b[39m \u001b[38;5;241m=\u001b[39m \u001b[38;5;124m\"\u001b[39m\u001b[38;5;124mMaster in Data Science\u001b[39m\u001b[38;5;124m\"\u001b[39m\n\u001b[0;32m      8\u001b[0m age : \u001b[38;5;28mint\u001b[39m \u001b[38;5;241m=\u001b[39m \u001b[38;5;241m30\u001b[39m\n\u001b[1;32m---> 10\u001b[0m card : \u001b[38;5;28mstr\u001b[39m \u001b[38;5;241m=\u001b[39m \u001b[38;5;124;43m\"\u001b[39;49m\u001b[38;5;124;43mPIAIC Student Card\u001b[39;49m\u001b[38;5;130;43;01m\\n\u001b[39;49;00m\u001b[38;5;124;43mStudent Name: \u001b[39;49m\u001b[38;5;124;43m\"\u001b[39;49m\u001b[43m \u001b[49m\u001b[38;5;241;43m+\u001b[39;49m\u001b[43m \u001b[49m\u001b[43mname\u001b[49m\u001b[43m \u001b[49m\u001b[38;5;241;43m+\u001b[39;49m\u001b[43m \u001b[49m\u001b[38;5;124;43m\"\u001b[39;49m\u001b[38;5;130;43;01m\\n\u001b[39;49;00m\u001b[38;5;124;43mAge:\u001b[39;49m\u001b[38;5;124;43m\"\u001b[39;49m\u001b[43m \u001b[49m\u001b[38;5;241;43m+\u001b[39;49m\u001b[43m \u001b[49m\u001b[43mage\u001b[49m\n\u001b[0;32m     12\u001b[0m \u001b[38;5;28mprint\u001b[39m(card)\n",
      "\u001b[1;31mTypeError\u001b[0m: can only concatenate str (not \"int\") to str"
     ]
    }
   ],
   "source": [
    "# boundries\n",
    "# 'string text', \"string text \", '''string text''', \"\"\" string\"\"\"\n",
    "# `string text` type script\n",
    "\n",
    "name : str = 'Muhammad Qasim'\n",
    "fname : str = \"Muhammad Aslam\"\n",
    "education : str = \"Master in Data Science\"\n",
    "age : int = 30\n",
    "\n",
    "card : str = \"PIAIC Student Card\\nStudent Name: \" + name + \"\\nAge:\" + age\n",
    "\n",
    "print(card)"
   ]
  },
  {
   "cell_type": "code",
   "execution_count": null,
   "metadata": {},
   "outputs": [
    {
     "ename": "TypeError",
     "evalue": "can only concatenate str (not \"int\") to str",
     "output_type": "error",
     "traceback": [
      "\u001b[1;31m---------------------------------------------------------------------------\u001b[0m",
      "\u001b[1;31mTypeError\u001b[0m                                 Traceback (most recent call last)",
      "\u001b[1;32mf:\\PIAIC\\Python_classes\\class-02\\class2.ipynb Cell 10\u001b[0m line \u001b[0;36m1\n\u001b[1;32m----> <a href='vscode-notebook-cell:/f%3A/PIAIC/Python_classes/class-02/class2.ipynb#X14sZmlsZQ%3D%3D?line=0'>1</a>\u001b[0m \u001b[39m\"\u001b[39;49m\u001b[39ma\u001b[39;49m\u001b[39m\"\u001b[39;49m \u001b[39m+\u001b[39;49m \u001b[39m7\u001b[39;49m\n",
      "\u001b[1;31mTypeError\u001b[0m: can only concatenate str (not \"int\") to str"
     ]
    }
   ],
   "source": [
    "\"a\" + 7"
   ]
  },
  {
   "cell_type": "code",
   "execution_count": null,
   "metadata": {},
   "outputs": [
    {
     "data": {
      "text/plain": [
       "'a7'"
      ]
     },
     "execution_count": 12,
     "metadata": {},
     "output_type": "execute_result"
    }
   ],
   "source": [
    "\"a\" + str(7)"
   ]
  },
  {
   "cell_type": "code",
   "execution_count": null,
   "metadata": {},
   "outputs": [
    {
     "name": "stdout",
     "output_type": "stream",
     "text": [
      "PIAIC Student Card\n",
      "Student Name: Muhammad Qasim\n",
      "Age:30\n"
     ]
    }
   ],
   "source": [
    "# boundries\n",
    "# 'string text', \"string text \", '''string text''', \"\"\" string\"\"\"\n",
    "# `string text` type script\n",
    "\n",
    "name : str = 'Muhammad Qasim'\n",
    "fname : str = \"Muhammad Aslam\"\n",
    "education : str = \"Master in Data Science\"\n",
    "age : int = 30\n",
    "\n",
    "card : str = \"PIAIC Student Card\\nStudent Name: \" + name + \"\\nAge:\" + str(age)\n",
    "print(card)\n"
   ]
  },
  {
   "cell_type": "code",
   "execution_count": null,
   "metadata": {},
   "outputs": [
    {
     "name": "stdout",
     "output_type": "stream",
     "text": [
      "17\n"
     ]
    }
   ],
   "source": [
    "print(7 + 8 + 2)"
   ]
  },
  {
   "cell_type": "code",
   "execution_count": null,
   "metadata": {},
   "outputs": [
    {
     "name": "stdout",
     "output_type": "stream",
     "text": [
      "17\n"
     ]
    }
   ],
   "source": [
    "print(7 + \\\n",
    "      8 + \\\n",
    "        2)"
   ]
  },
  {
   "cell_type": "code",
   "execution_count": null,
   "metadata": {},
   "outputs": [
    {
     "name": "stdout",
     "output_type": "stream",
     "text": [
      "PIAIC Student Card\n",
      "Student Name: Muhammad Qasim\n",
      "Age:30\n",
      "Education: Master in Data Science\n"
     ]
    }
   ],
   "source": [
    "# boundries\n",
    "# 'string text', \"string text \", '''string text''', \"\"\" string\"\"\"\n",
    "# `string text` type script\n",
    "\n",
    "name : str = 'Muhammad Qasim'\n",
    "fname : str = \"Muhammad Aslam\"\n",
    "education : str = \"Master in Data Science\"\n",
    "age : int = 30\n",
    "\n",
    "card : str = \"PIAIC Student Card\\nStudent Name: \" + name +\\\n",
    "\"\\nAge:\" + str(age)+ \"\\n\"+\\\n",
    "\"Education: \" + education\n",
    "\n",
    "print(card)"
   ]
  },
  {
   "cell_type": "markdown",
   "metadata": {},
   "source": [
    "# Define multiline string \"\"\" \"\"\", ''' '''"
   ]
  },
  {
   "cell_type": "code",
   "execution_count": 7,
   "metadata": {},
   "outputs": [
    {
     "name": "stdout",
     "output_type": "stream",
     "text": [
      "\n",
      "PIAIC Student Card\n",
      "Student Name : {name}\n",
      "Father's Name: {fname}\n",
      "Age: ......\n",
      "Education : .....\n",
      "\n"
     ]
    }
   ],
   "source": [
    "name : str = 'Muhammad Qasim'\n",
    "fname : str = \"Muhammad Aslam\"\n",
    "education : str = \"Master in Data Science\"\n",
    "age : int = 30\n",
    "card : str = \"\"\"\n",
    "PIAIC Student Card\n",
    "Student Name : \n",
    "Father's Name: \n",
    "Age: ......\n",
    "Education : .....\n",
    "\"\"\"\n",
    "\n",
    "print(card)"
   ]
  },
  {
   "cell_type": "markdown",
   "metadata": {},
   "source": [
    "# F-string Python"
   ]
  },
  {
   "cell_type": "code",
   "execution_count": null,
   "metadata": {},
   "outputs": [
    {
     "name": "stdout",
     "output_type": "stream",
     "text": [
      "\n",
      "PIAIC Student Card\n",
      "Student Name : Muhammad Qasim\n",
      "Father's Name: Muhammad Aslam\n",
      "Age: 30\n",
      "Education : Master in Data Science\n",
      "\n"
     ]
    }
   ],
   "source": [
    "name : str = 'Muhammad Qasim'\n",
    "fname : str = \"Muhammad Aslam\"\n",
    "education : str = \"Master in Data Science\"\n",
    "age : int = 30\n",
    "\n",
    "\n",
    "card : str = f\"\"\"\n",
    "PIAIC Student Card\n",
    "Student Name : {name}\n",
    "Father's Name: {fname}\n",
    "Age: {age}\n",
    "Education : {education}\n",
    "\"\"\"\n",
    "\n",
    "print(card)"
   ]
  },
  {
   "cell_type": "code",
   "execution_count": null,
   "metadata": {},
   "outputs": [
    {
     "name": "stdout",
     "output_type": "stream",
     "text": [
      "\n",
      "PIAIC Student Card\n",
      "Student Name : Muhammad Qasim\n",
      "Father's Name: Muhammad Aslam\n",
      "Age: 30\n",
      "Education : Master in Data Science\n",
      "\n"
     ]
    }
   ],
   "source": [
    "name : str = 'Muhammad Qasim'\n",
    "fname : str = \"Muhammad Aslam\"\n",
    "education : str = \"Master in Data Science\"\n",
    "age : int = 30\n",
    "\n",
    "\n",
    "card : str = f'''\n",
    "PIAIC Student Card\n",
    "Student Name : {name}\n",
    "Father's Name: {fname}\n",
    "Age: {age}\n",
    "Education : {education}\n",
    "'''\n",
    "\n",
    "print(card)"
   ]
  },
  {
   "cell_type": "code",
   "execution_count": 8,
   "metadata": {},
   "outputs": [
    {
     "ename": "SyntaxError",
     "evalue": "invalid syntax (3006081097.py, line 7)",
     "output_type": "error",
     "traceback": [
      "\u001b[1;36m  Cell \u001b[1;32mIn[8], line 7\u001b[1;36m\u001b[0m\n\u001b[1;33m    card : str = `\u001b[0m\n\u001b[1;37m                 ^\u001b[0m\n\u001b[1;31mSyntaxError\u001b[0m\u001b[1;31m:\u001b[0m invalid syntax\n"
     ]
    }
   ],
   "source": [
    "name : str = 'Muhammad Qasim'\n",
    "fname : str = \"Muhammad Aslam\"\n",
    "education : str = \"Master in Data Science\"\n",
    "age : int = 30\n",
    "\n",
    "\n",
    "card : str = `\n",
    "PIAIC Student Card\n",
    "Student Name : {name}\n",
    "Father's Name: {fname}\n",
    "Age: {age}\n",
    "Education : {education}\n",
    "`\n",
    "\n",
    "print(card)"
   ]
  },
  {
   "cell_type": "code",
   "execution_count": null,
   "metadata": {},
   "outputs": [
    {
     "name": "stdout",
     "output_type": "stream",
     "text": [
      "\n",
      "PIAIC Student Card\n",
      "Student Name : Muhammad Qasim\n",
      "Father's Name: Muhammad Aslam\n",
      "Age: 30\n",
      "Education : Master in Data Science\n",
      "Total 22\n",
      "\n"
     ]
    }
   ],
   "source": [
    "name : str = 'Muhammad Qasim'\n",
    "fname : str = \"Muhammad Aslam\"\n",
    "education : str = \"Master in Data Science\"\n",
    "age : int = 30\n",
    "\n",
    "\n",
    "card : str = f\"\"\"\n",
    "PIAIC Student Card\n",
    "Student Name : {name}\n",
    "Father's Name: {fname}\n",
    "Age: {age}\n",
    "Education : {education}\n",
    "Total {2 + 8 + 9 + 3}\n",
    "\"\"\"\n",
    "\n",
    "print(card)"
   ]
  },
  {
   "cell_type": "markdown",
   "metadata": {},
   "source": [
    "# F-string and jinja style"
   ]
  },
  {
   "cell_type": "code",
   "execution_count": 9,
   "metadata": {},
   "outputs": [
    {
     "data": {
      "text/plain": [
       "'\\nstudent name Muhammad Qasim\\n'"
      ]
     },
     "execution_count": 9,
     "metadata": {},
     "output_type": "execute_result"
    }
   ],
   "source": [
    "f\"\"\"\n",
    "student name {name}\n",
    "\"\"\""
   ]
  },
  {
   "cell_type": "code",
   "execution_count": null,
   "metadata": {},
   "outputs": [
    {
     "name": "stdout",
     "output_type": "stream",
     "text": [
      "\n",
      "student name Muhammad Qasim\n",
      "\n"
     ]
    }
   ],
   "source": [
    "print(f\"\"\"\n",
    "student name {name}\n",
    "\"\"\")"
   ]
  },
  {
   "cell_type": "code",
   "execution_count": null,
   "metadata": {},
   "outputs": [
    {
     "data": {
      "text/plain": [
       "'\\nstudent name {{name}}\\n'"
      ]
     },
     "execution_count": 19,
     "metadata": {},
     "output_type": "execute_result"
    }
   ],
   "source": [
    "# Jinja Style\n",
    "\"\"\"\n",
    "student name {{name}}\n",
    "\"\"\""
   ]
  },
  {
   "cell_type": "code",
   "execution_count": 10,
   "metadata": {},
   "outputs": [
    {
     "name": "stdout",
     "output_type": "stream",
     "text": [
      "\n",
      "PIAIC Student Card\n",
      "Student Name : Muhammad Qasim\n",
      "Father's Name: Muhammad Aslam\n",
      "Age: 30\n",
      "Education : Master in Data Science\n",
      "\n",
      "\n"
     ]
    }
   ],
   "source": [
    "name : str = 'Muhammad Qasim'\n",
    "fname : str = \"Muhammad Aslam\"\n",
    "education : str = \"Master in Data Science\"\n",
    "age : int = 30\n",
    "\n",
    "\n",
    "card : str = f\"\"\"\n",
    "PIAIC Student Card\n",
    "Student Name : %s\n",
    "Father's Name: %s\n",
    "Age: %s\n",
    "Education : %s\n",
    "\n",
    "\"\"\" % (name, fname, age, education)\n",
    "\n",
    "print(card)"
   ]
  },
  {
   "cell_type": "code",
   "execution_count": null,
   "metadata": {},
   "outputs": [
    {
     "data": {
      "text/plain": [
       "['__add__',\n",
       " '__class__',\n",
       " '__contains__',\n",
       " '__delattr__',\n",
       " '__dir__',\n",
       " '__doc__',\n",
       " '__eq__',\n",
       " '__format__',\n",
       " '__ge__',\n",
       " '__getattribute__',\n",
       " '__getitem__',\n",
       " '__getnewargs__',\n",
       " '__getstate__',\n",
       " '__gt__',\n",
       " '__hash__',\n",
       " '__init__',\n",
       " '__init_subclass__',\n",
       " '__iter__',\n",
       " '__le__',\n",
       " '__len__',\n",
       " '__lt__',\n",
       " '__mod__',\n",
       " '__mul__',\n",
       " '__ne__',\n",
       " '__new__',\n",
       " '__reduce__',\n",
       " '__reduce_ex__',\n",
       " '__repr__',\n",
       " '__rmod__',\n",
       " '__rmul__',\n",
       " '__setattr__',\n",
       " '__sizeof__',\n",
       " '__str__',\n",
       " '__subclasshook__',\n",
       " 'capitalize',\n",
       " 'casefold',\n",
       " 'center',\n",
       " 'count',\n",
       " 'encode',\n",
       " 'endswith',\n",
       " 'expandtabs',\n",
       " 'find',\n",
       " 'format',\n",
       " 'format_map',\n",
       " 'index',\n",
       " 'isalnum',\n",
       " 'isalpha',\n",
       " 'isascii',\n",
       " 'isdecimal',\n",
       " 'isdigit',\n",
       " 'isidentifier',\n",
       " 'islower',\n",
       " 'isnumeric',\n",
       " 'isprintable',\n",
       " 'isspace',\n",
       " 'istitle',\n",
       " 'isupper',\n",
       " 'join',\n",
       " 'ljust',\n",
       " 'lower',\n",
       " 'lstrip',\n",
       " 'maketrans',\n",
       " 'partition',\n",
       " 'removeprefix',\n",
       " 'removesuffix',\n",
       " 'replace',\n",
       " 'rfind',\n",
       " 'rindex',\n",
       " 'rjust',\n",
       " 'rpartition',\n",
       " 'rsplit',\n",
       " 'rstrip',\n",
       " 'split',\n",
       " 'splitlines',\n",
       " 'startswith',\n",
       " 'strip',\n",
       " 'swapcase',\n",
       " 'title',\n",
       " 'translate',\n",
       " 'upper',\n",
       " 'zfill']"
      ]
     },
     "execution_count": 30,
     "metadata": {},
     "output_type": "execute_result"
    }
   ],
   "source": [
    "dir(str)"
   ]
  },
  {
   "cell_type": "code",
   "execution_count": null,
   "metadata": {},
   "outputs": [
    {
     "data": {
      "text/plain": [
       "['capitalize',\n",
       " 'casefold',\n",
       " 'center',\n",
       " 'count',\n",
       " 'encode',\n",
       " 'endswith',\n",
       " 'expandtabs',\n",
       " 'find',\n",
       " 'format',\n",
       " 'format_map',\n",
       " 'index',\n",
       " 'isalnum',\n",
       " 'isalpha',\n",
       " 'isascii',\n",
       " 'isdecimal',\n",
       " 'isdigit',\n",
       " 'isidentifier',\n",
       " 'islower',\n",
       " 'isnumeric',\n",
       " 'isprintable',\n",
       " 'isspace',\n",
       " 'istitle',\n",
       " 'isupper',\n",
       " 'join',\n",
       " 'ljust',\n",
       " 'lower',\n",
       " 'lstrip',\n",
       " 'maketrans',\n",
       " 'partition',\n",
       " 'removeprefix',\n",
       " 'removesuffix',\n",
       " 'replace',\n",
       " 'rfind',\n",
       " 'rindex',\n",
       " 'rjust',\n",
       " 'rpartition',\n",
       " 'rsplit',\n",
       " 'rstrip',\n",
       " 'split',\n",
       " 'splitlines',\n",
       " 'startswith',\n",
       " 'strip',\n",
       " 'swapcase',\n",
       " 'title',\n",
       " 'translate',\n",
       " 'upper',\n",
       " 'zfill']"
      ]
     },
     "execution_count": 33,
     "metadata": {},
     "output_type": "execute_result"
    }
   ],
   "source": [
    "[i for i in dir(str) if \"__\" not in i]"
   ]
  },
  {
   "cell_type": "code",
   "execution_count": null,
   "metadata": {},
   "outputs": [
    {
     "data": {
      "text/plain": [
       "'pakistan value a = 7 and value b = 8'"
      ]
     },
     "execution_count": 34,
     "metadata": {},
     "output_type": "execute_result"
    }
   ],
   "source": [
    "a = 7\n",
    "b = 8\n",
    "# {} place holder\n",
    "#                   0                1          0 1\n",
    "\"pakistan value a = {} and value b = {}\".format(a,b)"
   ]
  },
  {
   "cell_type": "code",
   "execution_count": null,
   "metadata": {},
   "outputs": [
    {
     "name": "stdout",
     "output_type": "stream",
     "text": [
      "\n",
      "PIAIC Student Card\n",
      "Student Name : Muhammad Qasim\n",
      "Father's Name: Muhammad Aslam\n",
      "Age: 30\n",
      "Education : Master in Data Science\n",
      "\n",
      "Total 22\n",
      "\n"
     ]
    }
   ],
   "source": [
    "name : str = 'Muhammad Qasim'\n",
    "fname : str = \"Muhammad Aslam\"\n",
    "education : str = \"Master in Data Science\"\n",
    "age : int = 30\n",
    "\n",
    "\n",
    "card : str = f\"\"\"\n",
    "PIAIC Student Card\n",
    "Student Name : {name}\n",
    "Father's Name: {fname}\n",
    "Age: {age}\n",
    "Education : {education}\n",
    "\n",
    "Total {2 + 8 + 9 + 3}\n",
    "\"\"\"\n",
    "\n",
    "print(card)"
   ]
  },
  {
   "cell_type": "code",
   "execution_count": null,
   "metadata": {},
   "outputs": [
    {
     "name": "stdout",
     "output_type": "stream",
     "text": [
      "\n",
      "PIAIC Student Card\n",
      "Student Name : Muhammad Aslam\n",
      "Father's Name: Muhammad Qasim\n",
      "Age: Master in Data Science\n",
      "Education : 30\n",
      "\n"
     ]
    }
   ],
   "source": [
    "name : str = 'Muhammad Qasim'\n",
    "fname : str = \"Muhammad Aslam\"\n",
    "education : str = \"Master in Data Science\"\n",
    "age : int = 30\n",
    "\n",
    "\n",
    "card : str = \"\"\"\n",
    "PIAIC Student Card\n",
    "Student Name : {}\n",
    "Father's Name: {}\n",
    "Age: {}\n",
    "Education : {}\n",
    "\"\"\".format(fname, name, education, age)\n",
    "\n",
    "print(card)"
   ]
  },
  {
   "cell_type": "code",
   "execution_count": null,
   "metadata": {},
   "outputs": [
    {
     "name": "stdout",
     "output_type": "stream",
     "text": [
      "\n",
      "PIAIC Student Card\n",
      "Student Name : Muhammad Qasim\n",
      "Father's Name: Muhammad Aslam\n",
      "Age: 30\n",
      "Education : Master in Data Science\n",
      "\n"
     ]
    }
   ],
   "source": [
    "name : str = 'Muhammad Qasim'\n",
    "fname : str = \"Muhammad Aslam\"\n",
    "education : str = \"Master in Data Science\"\n",
    "age : int = 30\n",
    "\n",
    "\n",
    "card : str = \"\"\"\n",
    "PIAIC Student Card\n",
    "Student Name : {1}\n",
    "Father's Name: {0}\n",
    "Age: {3}\n",
    "Education : {2}\n",
    "\"\"\".format(fname, name, education, age)\n",
    "#           0      1       2        3\n",
    "\n",
    "print(card)"
   ]
  },
  {
   "cell_type": "code",
   "execution_count": null,
   "metadata": {},
   "outputs": [
    {
     "name": "stdout",
     "output_type": "stream",
     "text": [
      "\n",
      "PIAIC Student Card\n",
      "Student Name : Muhammad Qasim\n",
      "Father's Name: Muhammad Aslam\n",
      "Age: 30\n",
      "Education : Master in Data Science\n",
      "\n"
     ]
    }
   ],
   "source": [
    "name : str = 'Muhammad Qasim'\n",
    "fname : str = \"Muhammad Aslam\"\n",
    "education : str = \"Master in Data Science\"\n",
    "age : int = 30\n",
    "\n",
    "\n",
    "card : str = \"\"\"\n",
    "PIAIC Student Card\n",
    "Student Name : {a}\n",
    "Father's Name: {b}\n",
    "Age: {c}\n",
    "Education : {d}\n",
    "\"\"\".format(a=name, b=fname, c=age, d=education)\n",
    "\n",
    "\n",
    "print(card)"
   ]
  },
  {
   "cell_type": "markdown",
   "metadata": {},
   "source": [
    "# Recommended below two f-string format"
   ]
  },
  {
   "cell_type": "code",
   "execution_count": null,
   "metadata": {},
   "outputs": [
    {
     "name": "stdout",
     "output_type": "stream",
     "text": [
      "\n",
      "PIAIC Student Card\n",
      "Student Name : Muhammad Qasim\n",
      "Father's Name: Muhammad Aslam\n",
      "Age: 30\n",
      "Education : Master in Data Science\n",
      "\n"
     ]
    }
   ],
   "source": [
    "name : str = 'Muhammad Qasim'\n",
    "fname : str = \"Muhammad Aslam\"\n",
    "education : str = \"Master in Data Science\"\n",
    "age : int = 30\n",
    "\n",
    "\n",
    "card : str = f\"\"\"\n",
    "PIAIC Student Card\n",
    "Student Name : {name}\n",
    "Father's Name: {fname}\n",
    "Age: {age}\n",
    "Education : {education}\n",
    "\"\"\"\n",
    "\n",
    "print(card)"
   ]
  },
  {
   "cell_type": "code",
   "execution_count": null,
   "metadata": {},
   "outputs": [
    {
     "name": "stdout",
     "output_type": "stream",
     "text": [
      "My Name is Muhammad Qasim\n",
      "15\n"
     ]
    }
   ],
   "source": [
    "student_code : str = \"\"\"\n",
    "print(\"My Name is Muhammad Qasim\")\n",
    "a:int = 7\n",
    "b:int = 8\n",
    "print(a + b)\n",
    "\"\"\"\n",
    "\n",
    "exec(student_code)"
   ]
  },
  {
   "cell_type": "markdown",
   "metadata": {},
   "source": [
    "# Explore String methods and attributes\n",
    "pre-define global function we have used\n",
    "\n",
    "* print\n",
    "* type\n",
    "* id\n",
    "* dir\n",
    "* len"
   ]
  },
  {
   "cell_type": "code",
   "execution_count": null,
   "metadata": {},
   "outputs": [
    {
     "name": "stdout",
     "output_type": "stream",
     "text": [
      "['capitalize', 'casefold', 'center', 'count', 'encode', 'endswith', 'expandtabs', 'find', 'format', 'format_map', 'index', 'isalnum', 'isalpha', 'isascii', 'isdecimal', 'isdigit', 'isidentifier', 'islower', 'isnumeric', 'isprintable', 'isspace', 'istitle', 'isupper', 'join', 'ljust', 'lower', 'lstrip', 'maketrans', 'partition', 'removeprefix', 'removesuffix', 'replace', 'rfind', 'rindex', 'rjust', 'rpartition', 'rsplit', 'rstrip', 'split', 'splitlines', 'startswith', 'strip', 'swapcase', 'title', 'translate', 'upper', 'zfill']\n",
      "47\n"
     ]
    }
   ],
   "source": [
    "a: list[str] = [i for i in dir(str) if \"__\" not in i]\n",
    "print(a)\n",
    "print(len(a))"
   ]
  },
  {
   "cell_type": "code",
   "execution_count": null,
   "metadata": {},
   "outputs": [
    {
     "name": "stdout",
     "output_type": "stream",
     "text": [
      "MuHammAd QasIm\n",
      "muhammad qasim\n"
     ]
    }
   ],
   "source": [
    "name : str = \"MuHammAd QasIm\"\n",
    "#variable_name.method()\n",
    "print(name)\n",
    "print(name.casefold())"
   ]
  },
  {
   "cell_type": "code",
   "execution_count": null,
   "metadata": {},
   "outputs": [
    {
     "name": "stdout",
     "output_type": "stream",
     "text": [
      "MuHammAd QasIm\n",
      "muhammad qasim\n"
     ]
    }
   ],
   "source": [
    "name : str = \"MuHammAd QasIm\"\n",
    "#variable_name.method()\n",
    "print(name)\n",
    "print(name.lower())"
   ]
  },
  {
   "cell_type": "code",
   "execution_count": null,
   "metadata": {},
   "outputs": [
    {
     "data": {
      "text/plain": [
       "'      MuHammAd QasIm         '"
      ]
     },
     "metadata": {},
     "output_type": "display_data"
    },
    {
     "data": {
      "text/plain": [
       "'MuHammAd QasIm         '"
      ]
     },
     "metadata": {},
     "output_type": "display_data"
    }
   ],
   "source": [
    "name : str = \"      MuHammAd QasIm         \"\n",
    "\n",
    "#variable_name.method()\n",
    "display(name)\n",
    "display(name.lstrip())"
   ]
  },
  {
   "cell_type": "code",
   "execution_count": null,
   "metadata": {},
   "outputs": [
    {
     "data": {
      "text/plain": [
       "'      MuHammAd QasIm         '"
      ]
     },
     "metadata": {},
     "output_type": "display_data"
    },
    {
     "data": {
      "text/plain": [
       "'      MuHammAd QasIm'"
      ]
     },
     "metadata": {},
     "output_type": "display_data"
    }
   ],
   "source": [
    "name : str = \"      MuHammAd QasIm         \"\n",
    "\n",
    "#variable_name.method()\n",
    "display(name)\n",
    "display(name.rstrip())"
   ]
  },
  {
   "cell_type": "code",
   "execution_count": null,
   "metadata": {},
   "outputs": [
    {
     "data": {
      "text/plain": [
       "'      MuHammAd QasIm         '"
      ]
     },
     "metadata": {},
     "output_type": "display_data"
    },
    {
     "data": {
      "text/plain": [
       "'MuHammAd QasIm'"
      ]
     },
     "metadata": {},
     "output_type": "display_data"
    }
   ],
   "source": [
    "name : str = \"      MuHammAd QasIm         \"\n",
    "\n",
    "#variable_name.method()\n",
    "display(name)\n",
    "display(name.strip())"
   ]
  },
  {
   "cell_type": "code",
   "execution_count": null,
   "metadata": {},
   "outputs": [
    {
     "data": {
      "text/plain": [
       "'      MuHammAd       QasIm         '"
      ]
     },
     "metadata": {},
     "output_type": "display_data"
    },
    {
     "data": {
      "text/plain": [
       "'MuHammAd       QasIm'"
      ]
     },
     "metadata": {},
     "output_type": "display_data"
    }
   ],
   "source": [
    "name : str = \"      MuHammAd       QasIm         \"\n",
    "\n",
    "#variable_name.method()\n",
    "display(name)\n",
    "display(name.strip())"
   ]
  },
  {
   "cell_type": "code",
   "execution_count": null,
   "metadata": {},
   "outputs": [
    {
     "data": {
      "text/plain": [
       "'      MuHammAd           QasIm         '"
      ]
     },
     "metadata": {},
     "output_type": "display_data"
    },
    {
     "data": {
      "text/plain": [
       "'MuHammAd QasIm'"
      ]
     },
     "metadata": {},
     "output_type": "display_data"
    }
   ],
   "source": [
    "import re\n",
    "\n",
    "name : str = \"      MuHammAd           QasIm         \"\n",
    "\n",
    "display(name)\n",
    "\n",
    "name1 : str = re.sub(' {2,100}',' ', name).strip()\n",
    "display(name1)"
   ]
  },
  {
   "cell_type": "code",
   "execution_count": null,
   "metadata": {},
   "outputs": [
    {
     "data": {
      "text/plain": [
       "'      MuHammAd           QasIm         '"
      ]
     },
     "metadata": {},
     "output_type": "display_data"
    },
    {
     "data": {
      "text/plain": [
       "'MuHammAd QasIm'"
      ]
     },
     "metadata": {},
     "output_type": "display_data"
    }
   ],
   "source": [
    "import re\n",
    "\n",
    "name : str = \"      MuHammAd           QasIm         \"\n",
    "\n",
    "display(name)\n",
    "\n",
    "name1 : str = re.sub(' {2,100}',' ', name)\n",
    "\n",
    "display(name1.strip())"
   ]
  },
  {
   "cell_type": "code",
   "execution_count": null,
   "metadata": {},
   "outputs": [
    {
     "data": {
      "text/plain": [
       "'MuHammAd QasIm'"
      ]
     },
     "metadata": {},
     "output_type": "display_data"
    },
    {
     "data": {
      "text/plain": [
       "'Muhammad Qasim'"
      ]
     },
     "metadata": {},
     "output_type": "display_data"
    }
   ],
   "source": [
    "name : str = \"MuHammAd QasIm\"\n",
    "\n",
    "#variable_name.method()\n",
    "display(name)\n",
    "display(name.title())"
   ]
  },
  {
   "cell_type": "code",
   "execution_count": null,
   "metadata": {},
   "outputs": [
    {
     "name": "stdout",
     "output_type": "stream",
     "text": [
      "ADA LOVELACE\n",
      "ada lovelace\n"
     ]
    }
   ],
   "source": [
    "name:str = \"Ada Lovelace\"\n",
    "print(name.upper())\n",
    "print(name.lower())"
   ]
  },
  {
   "cell_type": "code",
   "execution_count": null,
   "metadata": {},
   "outputs": [
    {
     "name": "stdout",
     "output_type": "stream",
     "text": [
      "Name:\t\t Muhammad Qasim\n"
     ]
    }
   ],
   "source": [
    "print(\"Name:\\t\\t Muhammad Qasim\")"
   ]
  },
  {
   "cell_type": "code",
   "execution_count": null,
   "metadata": {},
   "outputs": [
    {
     "name": "stdout",
     "output_type": "stream",
     "text": [
      "Name:\n",
      "Muhammad Qasim\n"
     ]
    }
   ],
   "source": [
    "print(\"Name:\\nMuhammad Qasim\")"
   ]
  },
  {
   "cell_type": "code",
   "execution_count": null,
   "metadata": {},
   "outputs": [
    {
     "name": "stdout",
     "output_type": "stream",
     "text": [
      "NameMuhammad Qasim\n"
     ]
    }
   ],
   "source": [
    "print(\"Name:\\bMuhammad Qasim\")"
   ]
  },
  {
   "cell_type": "code",
   "execution_count": null,
   "metadata": {},
   "outputs": [
    {
     "data": {
      "text/plain": [
       "'nostarch.com'"
      ]
     },
     "execution_count": 55,
     "metadata": {},
     "output_type": "execute_result"
    }
   ],
   "source": [
    "nostarch_url:str = 'https://nostarch.com'\n",
    "nostarch_url.removeprefix('https://')"
   ]
  },
  {
   "cell_type": "code",
   "execution_count": null,
   "metadata": {},
   "outputs": [
    {
     "ename": "SyntaxError",
     "evalue": "invalid decimal literal (2214117265.py, line 1)",
     "output_type": "error",
     "traceback": [
      "\u001b[1;36m  Cell \u001b[1;32mIn[56], line 1\u001b[1;36m\u001b[0m\n\u001b[1;33m    1name : str = \"Qasim\"\u001b[0m\n\u001b[1;37m    ^\u001b[0m\n\u001b[1;31mSyntaxError\u001b[0m\u001b[1;31m:\u001b[0m invalid decimal literal\n"
     ]
    }
   ],
   "source": [
    "1name : str = \"Qasim\"\n",
    "print(1name)"
   ]
  },
  {
   "cell_type": "code",
   "execution_count": null,
   "metadata": {},
   "outputs": [
    {
     "name": "stdout",
     "output_type": "stream",
     "text": [
      "Qasim\n"
     ]
    }
   ],
   "source": [
    "_1name : str = \"Qasim\"\n",
    "print(_1name)"
   ]
  },
  {
   "cell_type": "code",
   "execution_count": null,
   "metadata": {},
   "outputs": [
    {
     "ename": "SyntaxError",
     "evalue": "invalid syntax (379964243.py, line 1)",
     "output_type": "error",
     "traceback": [
      "\u001b[1;36m  Cell \u001b[1;32mIn[58], line 1\u001b[1;36m\u001b[0m\n\u001b[1;33m    piaic student name : str = \"Muhammad Qasim\"\u001b[0m\n\u001b[1;37m          ^\u001b[0m\n\u001b[1;31mSyntaxError\u001b[0m\u001b[1;31m:\u001b[0m invalid syntax\n"
     ]
    }
   ],
   "source": [
    "piaic student name : str = \"Muhammad Qasim\"\n",
    "print(piaic student name)"
   ]
  },
  {
   "cell_type": "code",
   "execution_count": null,
   "metadata": {},
   "outputs": [
    {
     "name": "stdout",
     "output_type": "stream",
     "text": [
      "Muhammad Qasim\n"
     ]
    }
   ],
   "source": [
    "piaic_student_name : str = \"Muhammad Qasim\"\n",
    "print(piaic_student_name)"
   ]
  }
 ],
 "metadata": {
  "kernelspec": {
   "display_name": "python12",
   "language": "python",
   "name": "python3"
  },
  "language_info": {
   "codemirror_mode": {
    "name": "ipython",
    "version": 3
   },
   "file_extension": ".py",
   "mimetype": "text/x-python",
   "name": "python",
   "nbconvert_exporter": "python",
   "pygments_lexer": "ipython3",
   "version": "3.12.2"
  }
 },
 "nbformat": 4,
 "nbformat_minor": 2
}
